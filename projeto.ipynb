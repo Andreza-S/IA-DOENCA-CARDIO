{
 "cells": [
  {
   "cell_type": "markdown",
   "id": "f43c3e2a-4c19-4f48-9555-b9ab42f5bb0c",
   "metadata": {},
   "source": [
    "<div style=\"text-align: center;\">\n",
    "    <img src=\"https://github.com/dhiegov/cardio-ia/blob/andreza/logo_if.png?raw=true\" style=\"width: 150px; margin-bottom: 10px;\">\n",
    "</div>\n",
    "\n",
    "<h2 style=\"text-align: center;\">Projeto Semestral</h2>\n",
    "<h3 style=\"text-align: center;\">Predição de Doenças Cardíacas com IA</h3>\n",
    "\n",
    "<hr>\n",
    "\n",
    "<p style=\"text-align: center; font-size: 14px;\"><b>Discentes:</b> Andreza Santos</p>\n",
    "<p style=\"text-align: center; font-size: 14px;\"><b>Docente:</b> Marcelo J. S. C. de Almeida</p>\n",
    "\n",
    "<hr>\n",
    "\n",
    "<p style=\"text-align: center; font-size: 14px;\"><b>Instituição:</b> IFPB - Campus Campina Grande</p>\n",
    "<p style=\"text-align: center; font-size: 14px;\"><b>Curso:</b> Engenharia da Computação</p>\n",
    "<p style=\"text-align: center; font-size: 14px;\"><b>Disciplina:</b> Inteligência Artificial</p>\n",
    "<p style=\"text-align: center; font-size: 14px;\"><b>Local e Ano:</b> Campina Grande, PB - 2025</p>\n",
    "\n"
   ]
  },
  {
   "cell_type": "markdown",
   "id": "79afcac5-91a0-4fdd-8564-87022a2c3bf5",
   "metadata": {},
   "source": [
    "---"
   ]
  },
  {
   "cell_type": "markdown",
   "id": "51b3b90c-df8a-449d-9b4b-cea40a9a4d4f",
   "metadata": {},
   "source": [
    "**1. Descrição do Problema**\n",
    "\n",
    "As doenças cardíacas são uma das principais causas de mortalidade no mundo. A detecção precoce pode reduzir significativamente os riscos e permitir tratamentos mais eficazes. No entanto, diagnósticos precisos muitas vezes exigem exames caros ou consultas especializadas. Com o avanço da Inteligência Artificial, é possível desenvolver modelos preditivos que auxiliem na identificação de pacientes com maior risco de doenças cardíacas a partir de dados clínicos acessíveis.\\\n",
    "<mark>Neste projeto iremos trabalhar com um conjunto de dados que encapsula várias métricas de saúde de pacientes cardíacos, incluindo idade, pressão arterial, frequência cardíaca e outras mais. Nosso objetivo é desenvolver um modelo preditivo capaz de identificar com precisão indivíduos com doença cardíaca. Dadas as graves implicações de perder um diagnóstico positivo, nossa ênfase principal é garantir que o modelo identifique todos os pacientes em potencial, tornando a lembrança da classe positiva uma métrica crucial."
   ]
  },
  {
   "cell_type": "markdown",
   "id": "9bd07f0f-7f99-4158-959a-430a889a690b",
   "metadata": {},
   "source": [
    "**2. Objetivos**\n",
    "\n",
    "2.1 Explorar o conjunto de dados: descobrir padrões, distribuições e relacionamentos dentro dos dados.\n",
    "\n",
    "2.2 Conduzir análise exploratória extensiva de dados (EDA): mergulhar fundo em relacionamentos bivariados em relação ao alvo.\n",
    "Utilização de bases de dados públicas, como o conjunto de dados do Cleveland Heart Disease (UCI Machine Learning Repository) (https://archive.ics.uci.edu/dataset/45/heart+disease), dados coletados de fontes médicas confiáveis ou o dataset disponível junto à essa descrição.\n",
    "Tratamento de dados faltantes, normalização e análise exploratória dos dados.\n",
    "Aplicação de algoritmos de aprendizado de máquina, como Regressão Logística, Random Forest, SVM e Redes Neurais, para identificar padrões nos dados.\n",
    "Uso de métricas como acurácia, precisão, recall e AUC-ROC para medir o desempenho do modelo.\n",
    "Desenvolvimento de um dashboard ou relatório para apresentar os resultados de maneira acessível a profissionais da saúde."
   ]
  },
  {
   "cell_type": "markdown",
   "id": "231406d0-fd57-42cb-b1d9-b47f48c0f32a",
   "metadata": {},
   "source": [
    "**3. Etapas de pré-processamento**\n",
    "\n",
    "3.1 remover recursos irrelevantes\\\n",
    "3.2 abordar valores ausentes (eliminar, adotar valores médios ou default)\\\n",
    "3.3 tratar outliers\\\n",
    "3.4 converter variáveis categóricas\\\n",
    "3.5 transformar valores distorcidos para obter distribuições normais"
   ]
  },
  {
   "cell_type": "markdown",
   "id": "54ac96d5-1ad7-45cf-bbb9-097faec0031f",
   "metadata": {},
   "source": [
    "**4. construção de modelos**\n",
    "\n",
    "4.1 estabelecer pipelines para modelos que exigem dimensionamento\\\n",
    "4.2 implementar e ajustar modelos de classificação, incluindo Regressão Logística, RNA, SVM, árvores de decisão, ConvNet e floresta aleatória (opcional)\\\n",
    "4.3 avaliar e comparar o desempenho do modelo: utilizar precisão, recall e pontuação F1 para avaliar a eficácia dos modelos."
   ]
  },
  {
   "cell_type": "markdown",
   "id": "87dc9a02-160d-44c6-9981-3a5ca8234007",
   "metadata": {},
   "source": [
    "**5. Orientações**\n",
    "\n",
    "5.1 Cada grupo deverá ter três integrantes\\\n",
    "5.2 Caso algum dos integrantes estiver reprovado por faltas no dia da apresentação, este não poderá participar\\\n",
    "5.3 Cada grupo precisa entregar, apresentar e defender um notebook com as seguintes seções:\n",
    "- 5.3.1 Uma análise exploratória dos dados\n",
    "- 5.3.2 Uma etapa de pré-processamento (veja o que é necessário fazer: limpeza, extração de novas features, seleção de features, etc)\n",
    "- 5.3.2 Fazer o treinamento, usando pelo menos as técnicas mencionadas acima\n",
    "- 5.3.3 Explicar como fez pra encontrar os hiperparâmetros.\n",
    "- 5.3.4 Apresentar gráficos exibindo o desempenho dos modelos."
   ]
  },
  {
   "cell_type": "code",
   "execution_count": null,
   "id": "ae9ec936-e7dc-472b-a8a5-42f7e765ac7b",
   "metadata": {},
   "outputs": [],
   "source": []
  },
  {
   "cell_type": "markdown",
   "id": "51fb3996-95ce-4629-afaf-7cdab1190401",
   "metadata": {},
   "source": [
    "**<h2>Descrição das variáveis**\n",
    "\n",
    "**age: Idade do paciente em anos;**\n",
    "\n",
    "**sex: Gênero do paciente**\n",
    "- 0 = masculino;\n",
    "- 1 = feminino;\n",
    "  \n",
    "**cp: Tipo de dor no peito**\n",
    "- 0 = Angina típica;\n",
    "- 1 = Angina atípica;\n",
    "- 2 = Dor não-anginosa;\n",
    "- 3 = Assintomático;\n",
    "  \n",
    "**trestbps: Pressão arterial em repouso em mmHg;**\n",
    "\n",
    "**chol: Colesterol sérico em mg/dl;**\n",
    "\n",
    "**fbs: Nível de açúcar no sangue em jejum, categorizado como acima de 120 mg/dl**\n",
    "- 1 = verdadeiro;\n",
    "- 0 = falso;\n",
    "  \n",
    "**restecg: Resultados do eletrocardiograma em repouso**\n",
    "- 0 = Normal;\n",
    "- 1 = Presença de anormalidade na onda ST-T;\n",
    "- 2 = Presença provável ou definida de hipertrofia ventricular esquerda;\n",
    "  \n",
    "**thalach: Frequência cardíaca máxima atingida durante um teste de esforço;**\n",
    "\n",
    "**exang: Angina induzida por exercício**\n",
    "- 1 = sim;\n",
    "- 0 = não;\n",
    "  \n",
    "**oldpeak: Depressão do segmento ST induzida pelo exercício em relação ao repouso;**\n",
    "\n",
    "**slope: Inclinação do segmento ST no pico do exercício**\n",
    "- 0 = Ascendente;\n",
    "- 1 = Plano;\n",
    "- 2 = Descendente;\n",
    "\n",
    "**ca: Número de vasos principais (0-4) visualizados por fluoroscopia;**\n",
    "\n",
    "**thal: Resultado do teste de esforço com tálio**\n",
    "- 0 = Normal;\n",
    "- 1 = Defeito fixo;\n",
    "- 2 = Defeito reversível;\n",
    "- 3 = Não descrito;\n",
    "\n",
    "**target: Status da doença cardíaca**\n",
    "- 0 = sem doença;\n",
    "- 1 = presença de doença."
   ]
  },
  {
   "cell_type": "markdown",
   "id": "ee7aaa8a-f04f-472b-9a4f-e2d723958370",
   "metadata": {},
   "source": [
    "**<h2><mark>Desenvolvimento do projeto**"
   ]
  },
  {
   "cell_type": "markdown",
   "id": "19f71b10-512a-4421-af98-ed14b582a96b",
   "metadata": {},
   "source": [
    "<mark>**1 - Pré-processamento dos dados:**</mark>\n",
    "- Importação do DataFrame\n",
    "- Verificando valores faltantes\n",
    "- Verificando se há valores duplicados\n",
    "- Exibe todas as ocorrências das duplicatas\n",
    "- Remover duplicatas e atualizar o DataFrame\n",
    "- Resetar os índices após a remoção\n",
    "- Confirmando se as linhas duplicadas forma removidas\n",
    "- Verificando informações atualizadas do DataFrame"
   ]
  },
  {
   "cell_type": "code",
   "execution_count": 97,
   "id": "41a42bb6-dc3f-4c35-92c3-d43413dadb1d",
   "metadata": {},
   "outputs": [],
   "source": [
    "import pandas as pd\n",
    "import seaborn as sns\n",
    "import matplotlib.pyplot as plt"
   ]
  },
  {
   "cell_type": "code",
   "execution_count": 98,
   "id": "1aab5419-6cd9-4cbc-94d0-d0e67f560b11",
   "metadata": {},
   "outputs": [],
   "source": [
    "# URL do arquivo CSV no GitHub\n",
    "url = \"https://raw.githubusercontent.com/dhiegov/cardio-ia/refs/heads/main/heart.csv\""
   ]
  },
  {
   "cell_type": "code",
   "execution_count": 99,
   "id": "473904e0-004f-453f-b3c7-f01c406a44ad",
   "metadata": {},
   "outputs": [],
   "source": [
    "# Carregar os dados\n",
    "df = pd.read_csv(url)"
   ]
  },
  {
   "cell_type": "code",
   "execution_count": 100,
   "id": "a6b0712d-bd12-40e6-ba2d-e8381b3ee3ac",
   "metadata": {},
   "outputs": [
    {
     "name": "stdout",
     "output_type": "stream",
     "text": [
      "<class 'pandas.core.frame.DataFrame'>\n",
      "RangeIndex: 303 entries, 0 to 302\n",
      "Data columns (total 14 columns):\n",
      " #   Column    Non-Null Count  Dtype  \n",
      "---  ------    --------------  -----  \n",
      " 0   age       303 non-null    int64  \n",
      " 1   sex       303 non-null    int64  \n",
      " 2   cp        303 non-null    int64  \n",
      " 3   trestbps  303 non-null    int64  \n",
      " 4   chol      303 non-null    int64  \n",
      " 5   fbs       303 non-null    int64  \n",
      " 6   restecg   303 non-null    int64  \n",
      " 7   thalach   303 non-null    int64  \n",
      " 8   exang     303 non-null    int64  \n",
      " 9   oldpeak   303 non-null    float64\n",
      " 10  slope     303 non-null    int64  \n",
      " 11  ca        303 non-null    int64  \n",
      " 12  thal      303 non-null    int64  \n",
      " 13  target    303 non-null    int64  \n",
      "dtypes: float64(1), int64(13)\n",
      "memory usage: 33.3 KB\n"
     ]
    }
   ],
   "source": [
    "#Verificando informações gerais do dataset\n",
    "df.info()"
   ]
  },
  {
   "cell_type": "code",
   "execution_count": 101,
   "id": "b1dce2fb-557e-49a9-8017-9cf2d8a1943c",
   "metadata": {},
   "outputs": [
    {
     "name": "stdout",
     "output_type": "stream",
     "text": [
      "age         0\n",
      "sex         0\n",
      "cp          0\n",
      "trestbps    0\n",
      "chol        0\n",
      "fbs         0\n",
      "restecg     0\n",
      "thalach     0\n",
      "exang       0\n",
      "oldpeak     0\n",
      "slope       0\n",
      "ca          0\n",
      "thal        0\n",
      "target      0\n",
      "dtype: int64\n"
     ]
    }
   ],
   "source": [
    "# Verificando valores faltantes\n",
    "print(df.isnull().sum())\n"
   ]
  },
  {
   "cell_type": "code",
   "execution_count": 102,
   "id": "8eafba5e-18d0-401c-bf69-56edf166a665",
   "metadata": {
    "scrolled": true
   },
   "outputs": [
    {
     "data": {
      "text/html": [
       "<div>\n",
       "<style scoped>\n",
       "    .dataframe tbody tr th:only-of-type {\n",
       "        vertical-align: middle;\n",
       "    }\n",
       "\n",
       "    .dataframe tbody tr th {\n",
       "        vertical-align: top;\n",
       "    }\n",
       "\n",
       "    .dataframe thead th {\n",
       "        text-align: right;\n",
       "    }\n",
       "</style>\n",
       "<table border=\"1\" class=\"dataframe\">\n",
       "  <thead>\n",
       "    <tr style=\"text-align: right;\">\n",
       "      <th></th>\n",
       "      <th>age</th>\n",
       "      <th>sex</th>\n",
       "      <th>cp</th>\n",
       "      <th>trestbps</th>\n",
       "      <th>chol</th>\n",
       "      <th>fbs</th>\n",
       "      <th>restecg</th>\n",
       "      <th>thalach</th>\n",
       "      <th>exang</th>\n",
       "      <th>oldpeak</th>\n",
       "      <th>slope</th>\n",
       "      <th>ca</th>\n",
       "      <th>thal</th>\n",
       "      <th>target</th>\n",
       "    </tr>\n",
       "  </thead>\n",
       "  <tbody>\n",
       "    <tr>\n",
       "      <th>0</th>\n",
       "      <td>63</td>\n",
       "      <td>1</td>\n",
       "      <td>3</td>\n",
       "      <td>145</td>\n",
       "      <td>233</td>\n",
       "      <td>1</td>\n",
       "      <td>0</td>\n",
       "      <td>150</td>\n",
       "      <td>0</td>\n",
       "      <td>2.3</td>\n",
       "      <td>0</td>\n",
       "      <td>0</td>\n",
       "      <td>1</td>\n",
       "      <td>1</td>\n",
       "    </tr>\n",
       "    <tr>\n",
       "      <th>1</th>\n",
       "      <td>37</td>\n",
       "      <td>1</td>\n",
       "      <td>2</td>\n",
       "      <td>130</td>\n",
       "      <td>250</td>\n",
       "      <td>0</td>\n",
       "      <td>1</td>\n",
       "      <td>187</td>\n",
       "      <td>0</td>\n",
       "      <td>3.5</td>\n",
       "      <td>0</td>\n",
       "      <td>0</td>\n",
       "      <td>2</td>\n",
       "      <td>1</td>\n",
       "    </tr>\n",
       "    <tr>\n",
       "      <th>2</th>\n",
       "      <td>41</td>\n",
       "      <td>0</td>\n",
       "      <td>1</td>\n",
       "      <td>130</td>\n",
       "      <td>204</td>\n",
       "      <td>0</td>\n",
       "      <td>0</td>\n",
       "      <td>172</td>\n",
       "      <td>0</td>\n",
       "      <td>1.4</td>\n",
       "      <td>2</td>\n",
       "      <td>0</td>\n",
       "      <td>2</td>\n",
       "      <td>1</td>\n",
       "    </tr>\n",
       "    <tr>\n",
       "      <th>3</th>\n",
       "      <td>56</td>\n",
       "      <td>1</td>\n",
       "      <td>1</td>\n",
       "      <td>120</td>\n",
       "      <td>236</td>\n",
       "      <td>0</td>\n",
       "      <td>1</td>\n",
       "      <td>178</td>\n",
       "      <td>0</td>\n",
       "      <td>0.8</td>\n",
       "      <td>2</td>\n",
       "      <td>0</td>\n",
       "      <td>2</td>\n",
       "      <td>1</td>\n",
       "    </tr>\n",
       "    <tr>\n",
       "      <th>4</th>\n",
       "      <td>57</td>\n",
       "      <td>0</td>\n",
       "      <td>0</td>\n",
       "      <td>120</td>\n",
       "      <td>354</td>\n",
       "      <td>0</td>\n",
       "      <td>1</td>\n",
       "      <td>163</td>\n",
       "      <td>1</td>\n",
       "      <td>0.6</td>\n",
       "      <td>2</td>\n",
       "      <td>0</td>\n",
       "      <td>2</td>\n",
       "      <td>1</td>\n",
       "    </tr>\n",
       "  </tbody>\n",
       "</table>\n",
       "</div>"
      ],
      "text/plain": [
       "   age  sex  cp  trestbps  chol  fbs  restecg  thalach  exang  oldpeak  slope  \\\n",
       "0   63    1   3       145   233    1        0      150      0      2.3      0   \n",
       "1   37    1   2       130   250    0        1      187      0      3.5      0   \n",
       "2   41    0   1       130   204    0        0      172      0      1.4      2   \n",
       "3   56    1   1       120   236    0        1      178      0      0.8      2   \n",
       "4   57    0   0       120   354    0        1      163      1      0.6      2   \n",
       "\n",
       "   ca  thal  target  \n",
       "0   0     1       1  \n",
       "1   0     2       1  \n",
       "2   0     2       1  \n",
       "3   0     2       1  \n",
       "4   0     2       1  "
      ]
     },
     "execution_count": 102,
     "metadata": {},
     "output_type": "execute_result"
    }
   ],
   "source": [
    "# Exibindo algumas linhas do DataFrame\n",
    "df.head()"
   ]
  },
  {
   "cell_type": "code",
   "execution_count": 103,
   "id": "2b927710-61a9-4b9f-8443-e17cc23c5380",
   "metadata": {},
   "outputs": [
    {
     "data": {
      "text/plain": [
       "1"
      ]
     },
     "execution_count": 103,
     "metadata": {},
     "output_type": "execute_result"
    }
   ],
   "source": [
    "# Verificando se há valores duplicados\n",
    "df.duplicated().sum()\n"
   ]
  },
  {
   "cell_type": "code",
   "execution_count": 104,
   "id": "f45eeed1-d5c1-4997-9c36-c595de62cb48",
   "metadata": {},
   "outputs": [
    {
     "name": "stdout",
     "output_type": "stream",
     "text": [
      "     age  sex  cp  trestbps  chol  fbs  restecg  thalach  exang  oldpeak  \\\n",
      "163   38    1   2       138   175    0        1      173      0      0.0   \n",
      "164   38    1   2       138   175    0        1      173      0      0.0   \n",
      "\n",
      "     slope  ca  thal  target  \n",
      "163      2   4     2       1  \n",
      "164      2   4     2       1  \n"
     ]
    }
   ],
   "source": [
    "# Exibe todas as ocorrências das duplicatas\n",
    "duplicatas = df[df.duplicated(keep=False)] \n",
    "print(duplicatas)"
   ]
  },
  {
   "cell_type": "code",
   "execution_count": 105,
   "id": "1915acb3-3539-4a7a-82b0-e9a00d76156b",
   "metadata": {},
   "outputs": [],
   "source": [
    "# Remover duplicatas e atualizar o DataFrame\n",
    "df = df.drop_duplicates()"
   ]
  },
  {
   "cell_type": "code",
   "execution_count": 106,
   "id": "413bbfb5-e60a-44ba-9a9c-782f3bd038ee",
   "metadata": {},
   "outputs": [],
   "source": [
    "# Resetar os índices após a remoção\n",
    "df = df.drop_duplicates().reset_index(drop=True)\n"
   ]
  },
  {
   "cell_type": "code",
   "execution_count": 107,
   "id": "29919b2d-979d-46a4-9681-60051b3517bb",
   "metadata": {},
   "outputs": [
    {
     "data": {
      "text/plain": [
       "0"
      ]
     },
     "execution_count": 107,
     "metadata": {},
     "output_type": "execute_result"
    }
   ],
   "source": [
    "# Confirmando se as linhas duplicadas forma removidas\n",
    "df.duplicated().sum()\n"
   ]
  },
  {
   "cell_type": "code",
   "execution_count": 108,
   "id": "a8562706-87e3-4f34-8af2-6de2666b2d86",
   "metadata": {
    "scrolled": true
   },
   "outputs": [
    {
     "name": "stdout",
     "output_type": "stream",
     "text": [
      "<class 'pandas.core.frame.DataFrame'>\n",
      "RangeIndex: 302 entries, 0 to 301\n",
      "Data columns (total 14 columns):\n",
      " #   Column    Non-Null Count  Dtype  \n",
      "---  ------    --------------  -----  \n",
      " 0   age       302 non-null    int64  \n",
      " 1   sex       302 non-null    int64  \n",
      " 2   cp        302 non-null    int64  \n",
      " 3   trestbps  302 non-null    int64  \n",
      " 4   chol      302 non-null    int64  \n",
      " 5   fbs       302 non-null    int64  \n",
      " 6   restecg   302 non-null    int64  \n",
      " 7   thalach   302 non-null    int64  \n",
      " 8   exang     302 non-null    int64  \n",
      " 9   oldpeak   302 non-null    float64\n",
      " 10  slope     302 non-null    int64  \n",
      " 11  ca        302 non-null    int64  \n",
      " 12  thal      302 non-null    int64  \n",
      " 13  target    302 non-null    int64  \n",
      "dtypes: float64(1), int64(13)\n",
      "memory usage: 33.2 KB\n"
     ]
    }
   ],
   "source": [
    "# Verificando informações atualizadas do DataFrame\n",
    "df.info()"
   ]
  },
  {
   "cell_type": "markdown",
   "id": "432cc583-4252-4d71-9ceb-f538bd8a79c7",
   "metadata": {},
   "source": [
    "***É possível verificar que a linha duplicada foi retirada do DataFrame, dessa forma é possível ter uma análise com mais qualidade e evitar distorções nos resultado, como também evitar o viéses nos reusltados***"
   ]
  },
  {
   "cell_type": "markdown",
   "id": "f2b8bfd5-f29e-4595-a68e-5d03b19367f3",
   "metadata": {},
   "source": [
    "---"
   ]
  },
  {
   "cell_type": "markdown",
   "id": "002d1521-b961-4cec-a556-965fc92c9d72",
   "metadata": {},
   "source": [
    "<mark>**2 - Análise de dados:**</mark>\n",
    "\n",
    "Definição das variaveis categóricas e análises:\n",
    "- Sex\n",
    "- Target\n",
    "- Cp\n",
    "- Exang\n",
    "- Thal\n",
    "- FBS\n",
    "- Restecg\n",
    "- Slope\n"
   ]
  },
  {
   "cell_type": "markdown",
   "id": "96961886-9485-478b-ab53-628a1bc62e16",
   "metadata": {},
   "source": [
    "<div style=\"background-color: lightblue; padding: 10px; border-radius: 5px;\">\n",
    "    <b>sex: Gênero do paciente</b>\n",
    "    \n",
    "- 0 = masculino;    \n",
    "- 1 = feminino;\n",
    "  \n",
    "</div>  "
   ]
  },
  {
   "cell_type": "code",
   "execution_count": 109,
   "id": "39bd0c59-cd9a-4577-914f-6d0d06f20f75",
   "metadata": {},
   "outputs": [
    {
     "data": {
      "image/png": "[encoded data removed]",
      "text/plain": [
       "<Figure size 640x480 with 1 Axes>"
      ]
     },
     "metadata": {},
     "output_type": "display_data"
    }
   ],
   "source": [
    "sns.countplot(x=\"sex\", data=df)\n",
    "plt.title(\"Distribuição por Sexo\")\n",
    "plt.show()"
   ]
  },
  {
   "cell_type": "code",
   "execution_count": 110,
   "id": "dfa2d3c9-a897-4926-8e77-154f2584216a",
   "metadata": {},
   "outputs": [
    {
     "data": {
      "text/html": [
       "<div>\n",
       "<style scoped>\n",
       "    .dataframe tbody tr th:only-of-type {\n",
       "        vertical-align: middle;\n",
       "    }\n",
       "\n",
       "    .dataframe tbody tr th {\n",
       "        vertical-align: top;\n",
       "    }\n",
       "\n",
       "    .dataframe thead th {\n",
       "        text-align: right;\n",
       "    }\n",
       "</style>\n",
       "<table border=\"1\" class=\"dataframe\">\n",
       "  <thead>\n",
       "    <tr style=\"text-align: right;\">\n",
       "      <th></th>\n",
       "      <th>age</th>\n",
       "      <th>cp</th>\n",
       "      <th>trestbps</th>\n",
       "      <th>chol</th>\n",
       "      <th>fbs</th>\n",
       "      <th>restecg</th>\n",
       "      <th>thalach</th>\n",
       "      <th>exang</th>\n",
       "      <th>oldpeak</th>\n",
       "      <th>slope</th>\n",
       "      <th>ca</th>\n",
       "      <th>thal</th>\n",
       "      <th>target</th>\n",
       "    </tr>\n",
       "    <tr>\n",
       "      <th>sex</th>\n",
       "      <th></th>\n",
       "      <th></th>\n",
       "      <th></th>\n",
       "      <th></th>\n",
       "      <th></th>\n",
       "      <th></th>\n",
       "      <th></th>\n",
       "      <th></th>\n",
       "      <th></th>\n",
       "      <th></th>\n",
       "      <th></th>\n",
       "      <th></th>\n",
       "      <th></th>\n",
       "    </tr>\n",
       "  </thead>\n",
       "  <tbody>\n",
       "    <tr>\n",
       "      <th>0</th>\n",
       "      <td>55.677083</td>\n",
       "      <td>1.041667</td>\n",
       "      <td>133.083333</td>\n",
       "      <td>261.302083</td>\n",
       "      <td>0.125000</td>\n",
       "      <td>0.572917</td>\n",
       "      <td>151.12500</td>\n",
       "      <td>0.229167</td>\n",
       "      <td>0.876042</td>\n",
       "      <td>1.427083</td>\n",
       "      <td>0.552083</td>\n",
       "      <td>2.125000</td>\n",
       "      <td>0.750000</td>\n",
       "    </tr>\n",
       "    <tr>\n",
       "      <th>1</th>\n",
       "      <td>53.834951</td>\n",
       "      <td>0.927184</td>\n",
       "      <td>130.912621</td>\n",
       "      <td>239.601942</td>\n",
       "      <td>0.160194</td>\n",
       "      <td>0.504854</td>\n",
       "      <td>148.84466</td>\n",
       "      <td>0.373786</td>\n",
       "      <td>1.120874</td>\n",
       "      <td>1.383495</td>\n",
       "      <td>0.796117</td>\n",
       "      <td>2.402913</td>\n",
       "      <td>0.446602</td>\n",
       "    </tr>\n",
       "  </tbody>\n",
       "</table>\n",
       "</div>"
      ],
      "text/plain": [
       "           age        cp    trestbps        chol       fbs   restecg  \\\n",
       "sex                                                                    \n",
       "0    55.677083  1.041667  133.083333  261.302083  0.125000  0.572917   \n",
       "1    53.834951  0.927184  130.912621  239.601942  0.160194  0.504854   \n",
       "\n",
       "       thalach     exang   oldpeak     slope        ca      thal    target  \n",
       "sex                                                                         \n",
       "0    151.12500  0.229167  0.876042  1.427083  0.552083  2.125000  0.750000  \n",
       "1    148.84466  0.373786  1.120874  1.383495  0.796117  2.402913  0.446602  "
      ]
     },
     "execution_count": 110,
     "metadata": {},
     "output_type": "execute_result"
    }
   ],
   "source": [
    "df.groupby(\"sex\").mean()\n"
   ]
  },
  {
   "cell_type": "markdown",
   "id": "9a8660e1-816b-40b2-a9be-67a5f5750fd3",
   "metadata": {},
   "source": [
    "**<mark>Análise dos dados:**</mark> Escreva aqui a análise dos dados"
   ]
  },
  {
   "cell_type": "markdown",
   "id": "97069f7f-bf5f-4bde-86d3-ff517d397107",
   "metadata": {},
   "source": [
    "<div style=\"background-color: lightblue; padding: 10px; border-radius: 5px;\">\n",
    "    <b>target: Status da doença cardíaca</b>\n",
    "    \n",
    "- 0 = sem doença;  \n",
    "- 1 = presença de doença;\n",
    "\n",
    "</div> \n"
   ]
  },
  {
   "cell_type": "code",
   "execution_count": 111,
   "id": "fb86243c-6949-43b4-acba-7b5ce7ea2612",
   "metadata": {
    "scrolled": true
   },
   "outputs": [
    {
     "data": {
      "image/png": "[encoded data removed]",
      "text/plain": [
       "<Figure size 640x480 with 1 Axes>"
      ]
     },
     "metadata": {},
     "output_type": "display_data"
    }
   ],
   "source": [
    "sns.countplot(x=\"target\", data=df)\n",
    "plt.title(\"Distribuição do status da doença cardíaca\")\n",
    "plt.show()\n"
   ]
  },
  {
   "cell_type": "code",
   "execution_count": 112,
   "id": "c322f6a1-07ec-451d-b105-7a18df8d0d0f",
   "metadata": {},
   "outputs": [
    {
     "data": {
      "text/html": [
       "<div>\n",
       "<style scoped>\n",
       "    .dataframe tbody tr th:only-of-type {\n",
       "        vertical-align: middle;\n",
       "    }\n",
       "\n",
       "    .dataframe tbody tr th {\n",
       "        vertical-align: top;\n",
       "    }\n",
       "\n",
       "    .dataframe thead th {\n",
       "        text-align: right;\n",
       "    }\n",
       "</style>\n",
       "<table border=\"1\" class=\"dataframe\">\n",
       "  <thead>\n",
       "    <tr style=\"text-align: right;\">\n",
       "      <th></th>\n",
       "      <th>age</th>\n",
       "      <th>sex</th>\n",
       "      <th>cp</th>\n",
       "      <th>trestbps</th>\n",
       "      <th>chol</th>\n",
       "      <th>fbs</th>\n",
       "      <th>restecg</th>\n",
       "      <th>thalach</th>\n",
       "      <th>exang</th>\n",
       "      <th>oldpeak</th>\n",
       "      <th>slope</th>\n",
       "      <th>ca</th>\n",
       "      <th>thal</th>\n",
       "    </tr>\n",
       "    <tr>\n",
       "      <th>target</th>\n",
       "      <th></th>\n",
       "      <th></th>\n",
       "      <th></th>\n",
       "      <th></th>\n",
       "      <th></th>\n",
       "      <th></th>\n",
       "      <th></th>\n",
       "      <th></th>\n",
       "      <th></th>\n",
       "      <th></th>\n",
       "      <th></th>\n",
       "      <th></th>\n",
       "      <th></th>\n",
       "    </tr>\n",
       "  </thead>\n",
       "  <tbody>\n",
       "    <tr>\n",
       "      <th>0</th>\n",
       "      <td>56.601449</td>\n",
       "      <td>0.826087</td>\n",
       "      <td>0.478261</td>\n",
       "      <td>134.398551</td>\n",
       "      <td>251.086957</td>\n",
       "      <td>0.159420</td>\n",
       "      <td>0.449275</td>\n",
       "      <td>139.101449</td>\n",
       "      <td>0.550725</td>\n",
       "      <td>1.585507</td>\n",
       "      <td>1.166667</td>\n",
       "      <td>1.166667</td>\n",
       "      <td>2.543478</td>\n",
       "    </tr>\n",
       "    <tr>\n",
       "      <th>1</th>\n",
       "      <td>52.585366</td>\n",
       "      <td>0.560976</td>\n",
       "      <td>1.371951</td>\n",
       "      <td>129.250000</td>\n",
       "      <td>242.640244</td>\n",
       "      <td>0.140244</td>\n",
       "      <td>0.591463</td>\n",
       "      <td>158.378049</td>\n",
       "      <td>0.140244</td>\n",
       "      <td>0.586585</td>\n",
       "      <td>1.591463</td>\n",
       "      <td>0.341463</td>\n",
       "      <td>2.121951</td>\n",
       "    </tr>\n",
       "  </tbody>\n",
       "</table>\n",
       "</div>"
      ],
      "text/plain": [
       "              age       sex        cp    trestbps        chol       fbs  \\\n",
       "target                                                                    \n",
       "0       56.601449  0.826087  0.478261  134.398551  251.086957  0.159420   \n",
       "1       52.585366  0.560976  1.371951  129.250000  242.640244  0.140244   \n",
       "\n",
       "         restecg     thalach     exang   oldpeak     slope        ca      thal  \n",
       "target                                                                          \n",
       "0       0.449275  139.101449  0.550725  1.585507  1.166667  1.166667  2.543478  \n",
       "1       0.591463  158.378049  0.140244  0.586585  1.591463  0.341463  2.121951  "
      ]
     },
     "execution_count": 112,
     "metadata": {},
     "output_type": "execute_result"
    }
   ],
   "source": [
    "df.groupby(\"target\").mean()\n"
   ]
  },
  {
   "cell_type": "markdown",
   "id": "5bd20ba5-05e2-4922-adad-95bc73812e77",
   "metadata": {},
   "source": [
    "**<mark>Análise dos dados:**</mark> Escreva aqui a análise dos dados"
   ]
  },
  {
   "cell_type": "markdown",
   "id": "83af6232-a6b6-456e-97ed-eee0d65f41e6",
   "metadata": {},
   "source": [
    "<div style=\"background-color: lightblue; padding: 10px; border-radius: 5px;\">\n",
    "    <b>cp: Tipo de dor no peito</b>\n",
    "    \n",
    "- 0 = Angina típica;\n",
    "- 1 = Angina atípica;\n",
    "- 2 = Dor não-anginosa;\n",
    "- 3 = Assintomático;\n",
    "</div> \n",
    "\n"
   ]
  },
  {
   "cell_type": "code",
   "execution_count": 113,
   "id": "40fb5ffb-11cd-49c9-a6c2-89949a1778eb",
   "metadata": {
    "scrolled": true
   },
   "outputs": [
    {
     "data": {
      "image/png": "[encoded data removed]",
      "text/plain": [
       "<Figure size 640x480 with 1 Axes>"
      ]
     },
     "metadata": {},
     "output_type": "display_data"
    }
   ],
   "source": [
    "sns.countplot(x=\"cp\", data=df)\n",
    "plt.title(\"Distribuição dos Tipos de Dor no Peito\")\n",
    "plt.show()\n"
   ]
  },
  {
   "cell_type": "code",
   "execution_count": 114,
   "id": "b7d4049d-935a-4624-9ac4-9b7b30722a57",
   "metadata": {
    "scrolled": true
   },
   "outputs": [
    {
     "data": {
      "text/html": [
       "<div>\n",
       "<style scoped>\n",
       "    .dataframe tbody tr th:only-of-type {\n",
       "        vertical-align: middle;\n",
       "    }\n",
       "\n",
       "    .dataframe tbody tr th {\n",
       "        vertical-align: top;\n",
       "    }\n",
       "\n",
       "    .dataframe thead th {\n",
       "        text-align: right;\n",
       "    }\n",
       "</style>\n",
       "<table border=\"1\" class=\"dataframe\">\n",
       "  <thead>\n",
       "    <tr style=\"text-align: right;\">\n",
       "      <th></th>\n",
       "      <th>age</th>\n",
       "      <th>sex</th>\n",
       "      <th>trestbps</th>\n",
       "      <th>chol</th>\n",
       "      <th>fbs</th>\n",
       "      <th>restecg</th>\n",
       "      <th>thalach</th>\n",
       "      <th>exang</th>\n",
       "      <th>oldpeak</th>\n",
       "      <th>slope</th>\n",
       "      <th>ca</th>\n",
       "      <th>thal</th>\n",
       "      <th>target</th>\n",
       "    </tr>\n",
       "    <tr>\n",
       "      <th>cp</th>\n",
       "      <th></th>\n",
       "      <th></th>\n",
       "      <th></th>\n",
       "      <th></th>\n",
       "      <th></th>\n",
       "      <th></th>\n",
       "      <th></th>\n",
       "      <th></th>\n",
       "      <th></th>\n",
       "      <th></th>\n",
       "      <th></th>\n",
       "      <th></th>\n",
       "      <th></th>\n",
       "    </tr>\n",
       "  </thead>\n",
       "  <tbody>\n",
       "    <tr>\n",
       "      <th>0</th>\n",
       "      <td>55.692308</td>\n",
       "      <td>0.727273</td>\n",
       "      <td>132.020979</td>\n",
       "      <td>250.132867</td>\n",
       "      <td>0.125874</td>\n",
       "      <td>0.475524</td>\n",
       "      <td>140.538462</td>\n",
       "      <td>0.559441</td>\n",
       "      <td>1.383217</td>\n",
       "      <td>1.258741</td>\n",
       "      <td>0.965035</td>\n",
       "      <td>2.447552</td>\n",
       "      <td>0.272727</td>\n",
       "    </tr>\n",
       "    <tr>\n",
       "      <th>1</th>\n",
       "      <td>51.360000</td>\n",
       "      <td>0.640000</td>\n",
       "      <td>128.400000</td>\n",
       "      <td>244.780000</td>\n",
       "      <td>0.100000</td>\n",
       "      <td>0.620000</td>\n",
       "      <td>162.420000</td>\n",
       "      <td>0.080000</td>\n",
       "      <td>0.316000</td>\n",
       "      <td>1.680000</td>\n",
       "      <td>0.420000</td>\n",
       "      <td>2.140000</td>\n",
       "      <td>0.820000</td>\n",
       "    </tr>\n",
       "    <tr>\n",
       "      <th>2</th>\n",
       "      <td>53.697674</td>\n",
       "      <td>0.593023</td>\n",
       "      <td>130.290698</td>\n",
       "      <td>243.965116</td>\n",
       "      <td>0.197674</td>\n",
       "      <td>0.593023</td>\n",
       "      <td>155.406977</td>\n",
       "      <td>0.127907</td>\n",
       "      <td>0.806977</td>\n",
       "      <td>1.500000</td>\n",
       "      <td>0.546512</td>\n",
       "      <td>2.209302</td>\n",
       "      <td>0.790698</td>\n",
       "    </tr>\n",
       "    <tr>\n",
       "      <th>3</th>\n",
       "      <td>55.869565</td>\n",
       "      <td>0.826087</td>\n",
       "      <td>140.869565</td>\n",
       "      <td>237.130435</td>\n",
       "      <td>0.217391</td>\n",
       "      <td>0.391304</td>\n",
       "      <td>155.956522</td>\n",
       "      <td>0.173913</td>\n",
       "      <td>1.391304</td>\n",
       "      <td>1.260870</td>\n",
       "      <td>0.478261</td>\n",
       "      <td>2.260870</td>\n",
       "      <td>0.695652</td>\n",
       "    </tr>\n",
       "  </tbody>\n",
       "</table>\n",
       "</div>"
      ],
      "text/plain": [
       "          age       sex    trestbps        chol       fbs   restecg  \\\n",
       "cp                                                                    \n",
       "0   55.692308  0.727273  132.020979  250.132867  0.125874  0.475524   \n",
       "1   51.360000  0.640000  128.400000  244.780000  0.100000  0.620000   \n",
       "2   53.697674  0.593023  130.290698  243.965116  0.197674  0.593023   \n",
       "3   55.869565  0.826087  140.869565  237.130435  0.217391  0.391304   \n",
       "\n",
       "       thalach     exang   oldpeak     slope        ca      thal    target  \n",
       "cp                                                                          \n",
       "0   140.538462  0.559441  1.383217  1.258741  0.965035  2.447552  0.272727  \n",
       "1   162.420000  0.080000  0.316000  1.680000  0.420000  2.140000  0.820000  \n",
       "2   155.406977  0.127907  0.806977  1.500000  0.546512  2.209302  0.790698  \n",
       "3   155.956522  0.173913  1.391304  1.260870  0.478261  2.260870  0.695652  "
      ]
     },
     "execution_count": 114,
     "metadata": {},
     "output_type": "execute_result"
    }
   ],
   "source": [
    "df.groupby(\"cp\").mean()\n"
   ]
  },
  {
   "cell_type": "markdown",
   "id": "24cab17f-798b-4352-830a-d79c00398460",
   "metadata": {},
   "source": [
    "**<mark>Análise dos dados:**</mark> Escreva aqui a análise dos dados"
   ]
  },
  {
   "cell_type": "markdown",
   "id": "4a80836f-284d-4715-8bbd-a07abfca4231",
   "metadata": {},
   "source": [
    "<div style=\"background-color: lightblue; padding: 10px; border-radius: 5px;\">\n",
    "    <b>exang: Angina induzida por exercício</b>\n",
    "    \n",
    "- 1 = sim;\n",
    "- 0 = não;\n",
    "  \n",
    "</div> "
   ]
  },
  {
   "cell_type": "code",
   "execution_count": 115,
   "id": "531d7c9a-5638-4c38-b683-1e7c0dac4e1d",
   "metadata": {},
   "outputs": [
    {
     "data": {
      "image/png": "[encoded data removed]",
      "text/plain": [
       "<Figure size 640x480 with 1 Axes>"
      ]
     },
     "metadata": {},
     "output_type": "display_data"
    }
   ],
   "source": [
    "sns.countplot(x=\"exang\", data=df)\n",
    "plt.title(\"Distribuição por angina induzida por exercício\")\n",
    "plt.show()"
   ]
  },
  {
   "cell_type": "code",
   "execution_count": 116,
   "id": "c1ec7602-5b11-4a7e-883a-f3fa3a3f76aa",
   "metadata": {},
   "outputs": [
    {
     "data": {
      "text/html": [
       "<div>\n",
       "<style scoped>\n",
       "    .dataframe tbody tr th:only-of-type {\n",
       "        vertical-align: middle;\n",
       "    }\n",
       "\n",
       "    .dataframe tbody tr th {\n",
       "        vertical-align: top;\n",
       "    }\n",
       "\n",
       "    .dataframe thead th {\n",
       "        text-align: right;\n",
       "    }\n",
       "</style>\n",
       "<table border=\"1\" class=\"dataframe\">\n",
       "  <thead>\n",
       "    <tr style=\"text-align: right;\">\n",
       "      <th></th>\n",
       "      <th>age</th>\n",
       "      <th>sex</th>\n",
       "      <th>cp</th>\n",
       "      <th>trestbps</th>\n",
       "      <th>chol</th>\n",
       "      <th>fbs</th>\n",
       "      <th>restecg</th>\n",
       "      <th>thalach</th>\n",
       "      <th>oldpeak</th>\n",
       "      <th>slope</th>\n",
       "      <th>ca</th>\n",
       "      <th>thal</th>\n",
       "      <th>target</th>\n",
       "    </tr>\n",
       "    <tr>\n",
       "      <th>exang</th>\n",
       "      <th></th>\n",
       "      <th></th>\n",
       "      <th></th>\n",
       "      <th></th>\n",
       "      <th></th>\n",
       "      <th></th>\n",
       "      <th></th>\n",
       "      <th></th>\n",
       "      <th></th>\n",
       "      <th></th>\n",
       "      <th></th>\n",
       "      <th></th>\n",
       "      <th></th>\n",
       "    </tr>\n",
       "  </thead>\n",
       "  <tbody>\n",
       "    <tr>\n",
       "      <th>0</th>\n",
       "      <td>53.832512</td>\n",
       "      <td>0.635468</td>\n",
       "      <td>1.246305</td>\n",
       "      <td>130.763547</td>\n",
       "      <td>244.187192</td>\n",
       "      <td>0.142857</td>\n",
       "      <td>0.551724</td>\n",
       "      <td>155.596059</td>\n",
       "      <td>0.810837</td>\n",
       "      <td>1.507389</td>\n",
       "      <td>0.630542</td>\n",
       "      <td>2.226601</td>\n",
       "      <td>0.694581</td>\n",
       "    </tr>\n",
       "    <tr>\n",
       "      <th>1</th>\n",
       "      <td>55.626263</td>\n",
       "      <td>0.777778</td>\n",
       "      <td>0.383838</td>\n",
       "      <td>133.323232</td>\n",
       "      <td>251.242424</td>\n",
       "      <td>0.161616</td>\n",
       "      <td>0.474747</td>\n",
       "      <td>137.212121</td>\n",
       "      <td>1.519192</td>\n",
       "      <td>1.171717</td>\n",
       "      <td>0.898990</td>\n",
       "      <td>2.494949</td>\n",
       "      <td>0.232323</td>\n",
       "    </tr>\n",
       "  </tbody>\n",
       "</table>\n",
       "</div>"
      ],
      "text/plain": [
       "             age       sex        cp    trestbps        chol       fbs  \\\n",
       "exang                                                                    \n",
       "0      53.832512  0.635468  1.246305  130.763547  244.187192  0.142857   \n",
       "1      55.626263  0.777778  0.383838  133.323232  251.242424  0.161616   \n",
       "\n",
       "        restecg     thalach   oldpeak     slope        ca      thal    target  \n",
       "exang                                                                          \n",
       "0      0.551724  155.596059  0.810837  1.507389  0.630542  2.226601  0.694581  \n",
       "1      0.474747  137.212121  1.519192  1.171717  0.898990  2.494949  0.232323  "
      ]
     },
     "execution_count": 116,
     "metadata": {},
     "output_type": "execute_result"
    }
   ],
   "source": [
    "df.groupby(\"exang\").mean()"
   ]
  },
  {
   "cell_type": "markdown",
   "id": "ced9d18a-d47f-4258-9189-fad3ca3a5696",
   "metadata": {},
   "source": [
    "**<mark>Análise dos dados:**</mark> Escreva aqui a análise dos dados"
   ]
  },
  {
   "cell_type": "markdown",
   "id": "b506ef74-131d-4899-acf6-a3f41af9b408",
   "metadata": {},
   "source": [
    "<div style=\"background-color: lightblue; padding: 10px; border-radius: 5px;\">\n",
    "    <b>thal: Resultado do teste de esforço com tálio</b>\n",
    "    \n",
    "- 0 = Normal;\n",
    "- 1 = Defeito fixo;\n",
    "- 2 = Defeito reversível;\n",
    "- 3 = Não descrito;\n",
    "  \n",
    "</div> "
   ]
  },
  {
   "cell_type": "code",
   "execution_count": 117,
   "id": "b561bcd9-8f4b-45f8-9d4c-6ae60a3adb03",
   "metadata": {},
   "outputs": [
    {
     "data": {
      "image/png": "[encoded data removed]",
      "text/plain": [
       "<Figure size 640x480 with 1 Axes>"
      ]
     },
     "metadata": {},
     "output_type": "display_data"
    }
   ],
   "source": [
    "sns.countplot(x=\"thal\", data=df)\n",
    "plt.title(\"Distribuição por resultado do teste de esforço com tálio\")\n",
    "plt.show()"
   ]
  },
  {
   "cell_type": "code",
   "execution_count": 118,
   "id": "a7aa84da-9dab-4ea9-a325-4437e7003c4e",
   "metadata": {
    "scrolled": true
   },
   "outputs": [
    {
     "data": {
      "text/html": [
       "<div>\n",
       "<style scoped>\n",
       "    .dataframe tbody tr th:only-of-type {\n",
       "        vertical-align: middle;\n",
       "    }\n",
       "\n",
       "    .dataframe tbody tr th {\n",
       "        vertical-align: top;\n",
       "    }\n",
       "\n",
       "    .dataframe thead th {\n",
       "        text-align: right;\n",
       "    }\n",
       "</style>\n",
       "<table border=\"1\" class=\"dataframe\">\n",
       "  <thead>\n",
       "    <tr style=\"text-align: right;\">\n",
       "      <th></th>\n",
       "      <th>age</th>\n",
       "      <th>sex</th>\n",
       "      <th>cp</th>\n",
       "      <th>trestbps</th>\n",
       "      <th>chol</th>\n",
       "      <th>fbs</th>\n",
       "      <th>restecg</th>\n",
       "      <th>thalach</th>\n",
       "      <th>exang</th>\n",
       "      <th>oldpeak</th>\n",
       "      <th>slope</th>\n",
       "      <th>ca</th>\n",
       "      <th>target</th>\n",
       "    </tr>\n",
       "    <tr>\n",
       "      <th>thal</th>\n",
       "      <th></th>\n",
       "      <th></th>\n",
       "      <th></th>\n",
       "      <th></th>\n",
       "      <th></th>\n",
       "      <th></th>\n",
       "      <th></th>\n",
       "      <th></th>\n",
       "      <th></th>\n",
       "      <th></th>\n",
       "      <th></th>\n",
       "      <th></th>\n",
       "      <th></th>\n",
       "    </tr>\n",
       "  </thead>\n",
       "  <tbody>\n",
       "    <tr>\n",
       "      <th>0</th>\n",
       "      <td>52.500000</td>\n",
       "      <td>0.500000</td>\n",
       "      <td>1.000000</td>\n",
       "      <td>128.000000</td>\n",
       "      <td>210.000000</td>\n",
       "      <td>0.500000</td>\n",
       "      <td>0.500000</td>\n",
       "      <td>135.500000</td>\n",
       "      <td>0.500000</td>\n",
       "      <td>0.500000</td>\n",
       "      <td>1.500000</td>\n",
       "      <td>0.000000</td>\n",
       "      <td>0.500000</td>\n",
       "    </tr>\n",
       "    <tr>\n",
       "      <th>1</th>\n",
       "      <td>56.666667</td>\n",
       "      <td>0.944444</td>\n",
       "      <td>0.666667</td>\n",
       "      <td>136.944444</td>\n",
       "      <td>227.000000</td>\n",
       "      <td>0.277778</td>\n",
       "      <td>0.500000</td>\n",
       "      <td>135.111111</td>\n",
       "      <td>0.444444</td>\n",
       "      <td>1.522222</td>\n",
       "      <td>0.944444</td>\n",
       "      <td>1.000000</td>\n",
       "      <td>0.333333</td>\n",
       "    </tr>\n",
       "    <tr>\n",
       "      <th>2</th>\n",
       "      <td>53.339394</td>\n",
       "      <td>0.521212</td>\n",
       "      <td>1.212121</td>\n",
       "      <td>129.333333</td>\n",
       "      <td>246.478788</td>\n",
       "      <td>0.121212</td>\n",
       "      <td>0.539394</td>\n",
       "      <td>155.666667</td>\n",
       "      <td>0.187879</td>\n",
       "      <td>0.686667</td>\n",
       "      <td>1.563636</td>\n",
       "      <td>0.503030</td>\n",
       "      <td>0.781818</td>\n",
       "    </tr>\n",
       "    <tr>\n",
       "      <th>3</th>\n",
       "      <td>55.632479</td>\n",
       "      <td>0.871795</td>\n",
       "      <td>0.658120</td>\n",
       "      <td>134.042735</td>\n",
       "      <td>250.153846</td>\n",
       "      <td>0.162393</td>\n",
       "      <td>0.512821</td>\n",
       "      <td>143.435897</td>\n",
       "      <td>0.504274</td>\n",
       "      <td>1.481197</td>\n",
       "      <td>1.230769</td>\n",
       "      <td>0.991453</td>\n",
       "      <td>0.239316</td>\n",
       "    </tr>\n",
       "  </tbody>\n",
       "</table>\n",
       "</div>"
      ],
      "text/plain": [
       "            age       sex        cp    trestbps        chol       fbs  \\\n",
       "thal                                                                    \n",
       "0     52.500000  0.500000  1.000000  128.000000  210.000000  0.500000   \n",
       "1     56.666667  0.944444  0.666667  136.944444  227.000000  0.277778   \n",
       "2     53.339394  0.521212  1.212121  129.333333  246.478788  0.121212   \n",
       "3     55.632479  0.871795  0.658120  134.042735  250.153846  0.162393   \n",
       "\n",
       "       restecg     thalach     exang   oldpeak     slope        ca    target  \n",
       "thal                                                                          \n",
       "0     0.500000  135.500000  0.500000  0.500000  1.500000  0.000000  0.500000  \n",
       "1     0.500000  135.111111  0.444444  1.522222  0.944444  1.000000  0.333333  \n",
       "2     0.539394  155.666667  0.187879  0.686667  1.563636  0.503030  0.781818  \n",
       "3     0.512821  143.435897  0.504274  1.481197  1.230769  0.991453  0.239316  "
      ]
     },
     "execution_count": 118,
     "metadata": {},
     "output_type": "execute_result"
    }
   ],
   "source": [
    "df.groupby(\"thal\").mean()"
   ]
  },
  {
   "cell_type": "markdown",
   "id": "90bb17e5-6444-4597-8ca7-7c8daf588fbd",
   "metadata": {},
   "source": [
    "**<mark>Análise dos dados:**</mark>"
   ]
  },
  {
   "cell_type": "markdown",
   "id": "4c936578-b2c4-4158-94ec-da14eaf48c23",
   "metadata": {},
   "source": [
    "<div style=\"background-color: lightblue; padding: 10px; border-radius: 5px;\">\n",
    "    <b>fbs: Nível de açúcar no sangue em jejum, categorizado como acima de 120 mg/dl</b>\n",
    "    \n",
    "- 1 = verdadeiro;\n",
    "- 0 = falso;\n",
    "  \n",
    "</div> "
   ]
  },
  {
   "cell_type": "code",
   "execution_count": 119,
   "id": "53636eab-5665-4557-8f86-8fd6bc2d1707",
   "metadata": {
    "scrolled": true
   },
   "outputs": [
    {
     "data": {
      "image/png": "[encoded data removed]",
      "text/plain": [
       "<Figure size 640x480 with 1 Axes>"
      ]
     },
     "metadata": {},
     "output_type": "display_data"
    }
   ],
   "source": [
    "sns.countplot(x=\"fbs\", data=df)\n",
    "plt.title(\"Distribuição por nível de açúcar no sangue em jejum, categorizado como acima de 120 mg/dl\")\n",
    "plt.show()"
   ]
  },
  {
   "cell_type": "code",
   "execution_count": 120,
   "id": "8f4b6a19-5286-46e8-89c7-38275cbb1704",
   "metadata": {},
   "outputs": [
    {
     "data": {
      "text/html": [
       "<div>\n",
       "<style scoped>\n",
       "    .dataframe tbody tr th:only-of-type {\n",
       "        vertical-align: middle;\n",
       "    }\n",
       "\n",
       "    .dataframe tbody tr th {\n",
       "        vertical-align: top;\n",
       "    }\n",
       "\n",
       "    .dataframe thead th {\n",
       "        text-align: right;\n",
       "    }\n",
       "</style>\n",
       "<table border=\"1\" class=\"dataframe\">\n",
       "  <thead>\n",
       "    <tr style=\"text-align: right;\">\n",
       "      <th></th>\n",
       "      <th>age</th>\n",
       "      <th>sex</th>\n",
       "      <th>cp</th>\n",
       "      <th>trestbps</th>\n",
       "      <th>chol</th>\n",
       "      <th>restecg</th>\n",
       "      <th>thalach</th>\n",
       "      <th>exang</th>\n",
       "      <th>oldpeak</th>\n",
       "      <th>slope</th>\n",
       "      <th>ca</th>\n",
       "      <th>thal</th>\n",
       "      <th>target</th>\n",
       "    </tr>\n",
       "    <tr>\n",
       "      <th>fbs</th>\n",
       "      <th></th>\n",
       "      <th></th>\n",
       "      <th></th>\n",
       "      <th></th>\n",
       "      <th></th>\n",
       "      <th></th>\n",
       "      <th></th>\n",
       "      <th></th>\n",
       "      <th></th>\n",
       "      <th></th>\n",
       "      <th></th>\n",
       "      <th></th>\n",
       "      <th></th>\n",
       "    </tr>\n",
       "  </thead>\n",
       "  <tbody>\n",
       "    <tr>\n",
       "      <th>0</th>\n",
       "      <td>53.968872</td>\n",
       "      <td>0.673152</td>\n",
       "      <td>0.922179</td>\n",
       "      <td>130.295720</td>\n",
       "      <td>246.252918</td>\n",
       "      <td>0.544747</td>\n",
       "      <td>149.638132</td>\n",
       "      <td>0.322957</td>\n",
       "      <td>1.040856</td>\n",
       "      <td>1.412451</td>\n",
       "      <td>0.657588</td>\n",
       "      <td>2.322957</td>\n",
       "      <td>0.548638</td>\n",
       "    </tr>\n",
       "    <tr>\n",
       "      <th>1</th>\n",
       "      <td>57.000000</td>\n",
       "      <td>0.733333</td>\n",
       "      <td>1.200000</td>\n",
       "      <td>139.066667</td>\n",
       "      <td>247.911111</td>\n",
       "      <td>0.422222</td>\n",
       "      <td>149.177778</td>\n",
       "      <td>0.355556</td>\n",
       "      <td>1.055556</td>\n",
       "      <td>1.311111</td>\n",
       "      <td>1.066667</td>\n",
       "      <td>2.266667</td>\n",
       "      <td>0.511111</td>\n",
       "    </tr>\n",
       "  </tbody>\n",
       "</table>\n",
       "</div>"
      ],
      "text/plain": [
       "           age       sex        cp    trestbps        chol   restecg  \\\n",
       "fbs                                                                    \n",
       "0    53.968872  0.673152  0.922179  130.295720  246.252918  0.544747   \n",
       "1    57.000000  0.733333  1.200000  139.066667  247.911111  0.422222   \n",
       "\n",
       "        thalach     exang   oldpeak     slope        ca      thal    target  \n",
       "fbs                                                                          \n",
       "0    149.638132  0.322957  1.040856  1.412451  0.657588  2.322957  0.548638  \n",
       "1    149.177778  0.355556  1.055556  1.311111  1.066667  2.266667  0.511111  "
      ]
     },
     "execution_count": 120,
     "metadata": {},
     "output_type": "execute_result"
    }
   ],
   "source": [
    "df.groupby(\"fbs\").mean()"
   ]
  },
  {
   "cell_type": "markdown",
   "id": "8f5732dc-5edf-499a-92e3-a2c3953ee3b0",
   "metadata": {},
   "source": [
    "**<mark>Análise dos dados:**</mark> Escreva aqui a análise dos dados"
   ]
  },
  {
   "cell_type": "markdown",
   "id": "dff14cb8-19f4-476e-afec-1756d547688f",
   "metadata": {},
   "source": [
    "<div style=\"background-color: lightblue; padding: 10px; border-radius: 5px;\">\n",
    "    <b>restecg: Resultados do eletrocardiograma em repouso</b>\n",
    "    \n",
    "- 0 = Normal;\n",
    "- 1 = Presença de anormalidade na onda ST-T;\n",
    "- 2 = Presença provável ou definida de hipertrofia ventricular esquerda;\n",
    "  \n",
    "</div> "
   ]
  },
  {
   "cell_type": "code",
   "execution_count": 121,
   "id": "b2649ffd-65c7-4ef7-a9d6-8b1b2921e098",
   "metadata": {},
   "outputs": [
    {
     "data": {
      "image/png": "[encoded data removed]",
      "text/plain": [
       "<Figure size 640x480 with 1 Axes>"
      ]
     },
     "metadata": {},
     "output_type": "display_data"
    }
   ],
   "source": [
    "sns.countplot(x=\"restecg\", data=df)\n",
    "plt.title(\"Distribuição dos resultados do eletrocardiograma em repouso\")\n",
    "plt.show()"
   ]
  },
  {
   "cell_type": "code",
   "execution_count": 122,
   "id": "6dee1ad9-e141-4734-97be-eb5da5146524",
   "metadata": {},
   "outputs": [
    {
     "data": {
      "text/html": [
       "<div>\n",
       "<style scoped>\n",
       "    .dataframe tbody tr th:only-of-type {\n",
       "        vertical-align: middle;\n",
       "    }\n",
       "\n",
       "    .dataframe tbody tr th {\n",
       "        vertical-align: top;\n",
       "    }\n",
       "\n",
       "    .dataframe thead th {\n",
       "        text-align: right;\n",
       "    }\n",
       "</style>\n",
       "<table border=\"1\" class=\"dataframe\">\n",
       "  <thead>\n",
       "    <tr style=\"text-align: right;\">\n",
       "      <th></th>\n",
       "      <th>age</th>\n",
       "      <th>sex</th>\n",
       "      <th>cp</th>\n",
       "      <th>trestbps</th>\n",
       "      <th>chol</th>\n",
       "      <th>fbs</th>\n",
       "      <th>thalach</th>\n",
       "      <th>exang</th>\n",
       "      <th>oldpeak</th>\n",
       "      <th>slope</th>\n",
       "      <th>ca</th>\n",
       "      <th>thal</th>\n",
       "      <th>target</th>\n",
       "    </tr>\n",
       "    <tr>\n",
       "      <th>restecg</th>\n",
       "      <th></th>\n",
       "      <th></th>\n",
       "      <th></th>\n",
       "      <th></th>\n",
       "      <th></th>\n",
       "      <th></th>\n",
       "      <th></th>\n",
       "      <th></th>\n",
       "      <th></th>\n",
       "      <th></th>\n",
       "      <th></th>\n",
       "      <th></th>\n",
       "      <th></th>\n",
       "    </tr>\n",
       "  </thead>\n",
       "  <tbody>\n",
       "    <tr>\n",
       "      <th>0</th>\n",
       "      <td>55.687075</td>\n",
       "      <td>0.700680</td>\n",
       "      <td>0.904762</td>\n",
       "      <td>134.027211</td>\n",
       "      <td>255.142857</td>\n",
       "      <td>0.176871</td>\n",
       "      <td>147.904762</td>\n",
       "      <td>0.367347</td>\n",
       "      <td>1.159184</td>\n",
       "      <td>1.319728</td>\n",
       "      <td>0.816327</td>\n",
       "      <td>2.312925</td>\n",
       "      <td>0.462585</td>\n",
       "    </tr>\n",
       "    <tr>\n",
       "      <th>1</th>\n",
       "      <td>53.013245</td>\n",
       "      <td>0.675497</td>\n",
       "      <td>1.033113</td>\n",
       "      <td>129.006623</td>\n",
       "      <td>237.682119</td>\n",
       "      <td>0.125828</td>\n",
       "      <td>151.821192</td>\n",
       "      <td>0.284768</td>\n",
       "      <td>0.885430</td>\n",
       "      <td>1.490066</td>\n",
       "      <td>0.615894</td>\n",
       "      <td>2.324503</td>\n",
       "      <td>0.629139</td>\n",
       "    </tr>\n",
       "    <tr>\n",
       "      <th>2</th>\n",
       "      <td>61.000000</td>\n",
       "      <td>0.250000</td>\n",
       "      <td>0.500000</td>\n",
       "      <td>140.500000</td>\n",
       "      <td>261.750000</td>\n",
       "      <td>0.000000</td>\n",
       "      <td>125.750000</td>\n",
       "      <td>0.500000</td>\n",
       "      <td>2.725000</td>\n",
       "      <td>0.750000</td>\n",
       "      <td>1.000000</td>\n",
       "      <td>2.000000</td>\n",
       "      <td>0.250000</td>\n",
       "    </tr>\n",
       "  </tbody>\n",
       "</table>\n",
       "</div>"
      ],
      "text/plain": [
       "               age       sex        cp    trestbps        chol       fbs  \\\n",
       "restecg                                                                    \n",
       "0        55.687075  0.700680  0.904762  134.027211  255.142857  0.176871   \n",
       "1        53.013245  0.675497  1.033113  129.006623  237.682119  0.125828   \n",
       "2        61.000000  0.250000  0.500000  140.500000  261.750000  0.000000   \n",
       "\n",
       "            thalach     exang   oldpeak     slope        ca      thal  \\\n",
       "restecg                                                                 \n",
       "0        147.904762  0.367347  1.159184  1.319728  0.816327  2.312925   \n",
       "1        151.821192  0.284768  0.885430  1.490066  0.615894  2.324503   \n",
       "2        125.750000  0.500000  2.725000  0.750000  1.000000  2.000000   \n",
       "\n",
       "           target  \n",
       "restecg            \n",
       "0        0.462585  \n",
       "1        0.629139  \n",
       "2        0.250000  "
      ]
     },
     "execution_count": 122,
     "metadata": {},
     "output_type": "execute_result"
    }
   ],
   "source": [
    "df.groupby(\"restecg\").mean()"
   ]
  },
  {
   "cell_type": "markdown",
   "id": "9bc267b3-a63f-432e-b2f3-0a2916b477e9",
   "metadata": {},
   "source": [
    "**<mark>Análise dos dados:**</mark> Escreva aqui a análise dos dados"
   ]
  },
  {
   "cell_type": "markdown",
   "id": "7bc4e62d-1d4a-4f91-830b-e866b3decaef",
   "metadata": {},
   "source": [
    "<div style=\"background-color: lightblue; padding: 10px; border-radius: 5px;\">\n",
    "    <b>slope: Inclinação do segmento ST no pico do exercício</b>\n",
    "    \n",
    "- 0 = Ascendente;\n",
    "- 1 = Plano;\n",
    "- 2 = Descendente;\n",
    "  \n",
    "</div> "
   ]
  },
  {
   "cell_type": "code",
   "execution_count": 123,
   "id": "1ae8e945-3956-40a5-ad09-6ecd458287f9",
   "metadata": {},
   "outputs": [
    {
     "data": {
      "image/png": "[encoded data removed]",
      "text/plain": [
       "<Figure size 640x480 with 1 Axes>"
      ]
     },
     "metadata": {},
     "output_type": "display_data"
    }
   ],
   "source": [
    "sns.countplot(x=\"slope\", data=df)\n",
    "plt.title(\"Distribuição da inclinação do segmento ST no pico do exercício\")\n",
    "plt.show()"
   ]
  },
  {
   "cell_type": "code",
   "execution_count": 124,
   "id": "d010dc89-bcf1-45dc-b1bb-7905080985ba",
   "metadata": {},
   "outputs": [
    {
     "data": {
      "text/html": [
       "<div>\n",
       "<style scoped>\n",
       "    .dataframe tbody tr th:only-of-type {\n",
       "        vertical-align: middle;\n",
       "    }\n",
       "\n",
       "    .dataframe tbody tr th {\n",
       "        vertical-align: top;\n",
       "    }\n",
       "\n",
       "    .dataframe thead th {\n",
       "        text-align: right;\n",
       "    }\n",
       "</style>\n",
       "<table border=\"1\" class=\"dataframe\">\n",
       "  <thead>\n",
       "    <tr style=\"text-align: right;\">\n",
       "      <th></th>\n",
       "      <th>age</th>\n",
       "      <th>sex</th>\n",
       "      <th>cp</th>\n",
       "      <th>trestbps</th>\n",
       "      <th>chol</th>\n",
       "      <th>fbs</th>\n",
       "      <th>restecg</th>\n",
       "      <th>thalach</th>\n",
       "      <th>exang</th>\n",
       "      <th>oldpeak</th>\n",
       "      <th>ca</th>\n",
       "      <th>thal</th>\n",
       "      <th>target</th>\n",
       "    </tr>\n",
       "    <tr>\n",
       "      <th>slope</th>\n",
       "      <th></th>\n",
       "      <th></th>\n",
       "      <th></th>\n",
       "      <th></th>\n",
       "      <th></th>\n",
       "      <th></th>\n",
       "      <th></th>\n",
       "      <th></th>\n",
       "      <th></th>\n",
       "      <th></th>\n",
       "      <th></th>\n",
       "      <th></th>\n",
       "      <th></th>\n",
       "    </tr>\n",
       "  </thead>\n",
       "  <tbody>\n",
       "    <tr>\n",
       "      <th>0</th>\n",
       "      <td>55.380952</td>\n",
       "      <td>0.761905</td>\n",
       "      <td>1.000000</td>\n",
       "      <td>139.47619</td>\n",
       "      <td>237.666667</td>\n",
       "      <td>0.285714</td>\n",
       "      <td>0.476190</td>\n",
       "      <td>144.904762</td>\n",
       "      <td>0.428571</td>\n",
       "      <td>2.714286</td>\n",
       "      <td>0.571429</td>\n",
       "      <td>2.333333</td>\n",
       "      <td>0.428571</td>\n",
       "    </tr>\n",
       "    <tr>\n",
       "      <th>1</th>\n",
       "      <td>56.100000</td>\n",
       "      <td>0.678571</td>\n",
       "      <td>0.792857</td>\n",
       "      <td>132.10000</td>\n",
       "      <td>249.121429</td>\n",
       "      <td>0.135714</td>\n",
       "      <td>0.478571</td>\n",
       "      <td>139.292857</td>\n",
       "      <td>0.457143</td>\n",
       "      <td>1.428571</td>\n",
       "      <td>0.885714</td>\n",
       "      <td>2.392857</td>\n",
       "      <td>0.350000</td>\n",
       "    </tr>\n",
       "    <tr>\n",
       "      <th>2</th>\n",
       "      <td>52.609929</td>\n",
       "      <td>0.673759</td>\n",
       "      <td>1.127660</td>\n",
       "      <td>129.93617</td>\n",
       "      <td>245.212766</td>\n",
       "      <td>0.141844</td>\n",
       "      <td>0.581560</td>\n",
       "      <td>160.468085</td>\n",
       "      <td>0.184397</td>\n",
       "      <td>0.411348</td>\n",
       "      <td>0.574468</td>\n",
       "      <td>2.234043</td>\n",
       "      <td>0.751773</td>\n",
       "    </tr>\n",
       "  </tbody>\n",
       "</table>\n",
       "</div>"
      ],
      "text/plain": [
       "             age       sex        cp   trestbps        chol       fbs  \\\n",
       "slope                                                                   \n",
       "0      55.380952  0.761905  1.000000  139.47619  237.666667  0.285714   \n",
       "1      56.100000  0.678571  0.792857  132.10000  249.121429  0.135714   \n",
       "2      52.609929  0.673759  1.127660  129.93617  245.212766  0.141844   \n",
       "\n",
       "        restecg     thalach     exang   oldpeak        ca      thal    target  \n",
       "slope                                                                          \n",
       "0      0.476190  144.904762  0.428571  2.714286  0.571429  2.333333  0.428571  \n",
       "1      0.478571  139.292857  0.457143  1.428571  0.885714  2.392857  0.350000  \n",
       "2      0.581560  160.468085  0.184397  0.411348  0.574468  2.234043  0.751773  "
      ]
     },
     "execution_count": 124,
     "metadata": {},
     "output_type": "execute_result"
    }
   ],
   "source": [
    "df.groupby(\"slope\").mean()"
   ]
  },
  {
   "cell_type": "markdown",
   "id": "8695efcb-4192-4ac8-9d16-7685c6647d6f",
   "metadata": {},
   "source": [
    "**<mark>Análise dos dados:**</mark> Escreva aqui a análise dos dados"
   ]
  },
  {
   "cell_type": "code",
   "execution_count": null,
   "id": "4b8a1d31-ec08-4669-b15b-f20c2179a143",
   "metadata": {},
   "outputs": [],
   "source": []
  }
 ],
 "metadata": {
  "kernelspec": {
   "display_name": "Python 3 (ipykernel)",
   "language": "python",
   "name": "python3"
  },
  "language_info": {
   "codemirror_mode": {
    "name": "ipython",
    "version": 3
   },
   "file_extension": ".py",
   "mimetype": "text/x-python",
   "name": "python",
   "nbconvert_exporter": "python",
   "pygments_lexer": "ipython3",
   "version": "3.12.7"
  }
 },
 "nbformat": 4,
 "nbformat_minor": 5
}
